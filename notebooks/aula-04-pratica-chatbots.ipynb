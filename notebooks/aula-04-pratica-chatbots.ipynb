{
  "nbformat": 4,
  "nbformat_minor": 0,
  "metadata": {
    "colab": {
      "provenance": [],
      "authorship_tag": "ABX9TyMw4SQEtBKo4L201oe2XM+n",
      "include_colab_link": true
    },
    "kernelspec": {
      "name": "python3",
      "display_name": "Python 3"
    },
    "language_info": {
      "name": "python"
    }
  },
  "cells": [
    {
      "cell_type": "markdown",
      "metadata": {
        "id": "view-in-github",
        "colab_type": "text"
      },
      "source": [
        "<a href=\"https://colab.research.google.com/gist/guardiaum/141542fa1622e29d5559ae522c56a04e/aula-04-pratica-chatbots.ipynb\" target=\"_parent\"><img src=\"https://colab.research.google.com/assets/colab-badge.svg\" alt=\"Open In Colab\"/></a>"
      ]
    },
    {
      "cell_type": "markdown",
      "source": [
        "![logo-home-copy-496x80a-red.png](data:image/png;base64,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)"
      ],
      "metadata": {
        "id": "c-92aQ7O9zy0"
      }
    },
    {
      "cell_type": "code",
      "source": [
        "!pip install -U spacy\n",
        "#!python -m spacy download en_core_web_sm"
      ],
      "metadata": {
        "colab": {
          "base_uri": "https://localhost:8080/"
        },
        "id": "n6N3KMwW3R1b",
        "outputId": "fa7fe03f-d233-4350-8fdf-327f6acaa0e6"
      },
      "execution_count": null,
      "outputs": [
        {
          "output_type": "stream",
          "name": "stdout",
          "text": [
            "Looking in indexes: https://pypi.org/simple, https://us-python.pkg.dev/colab-wheels/public/simple/\n",
            "Requirement already satisfied: spacy in /usr/local/lib/python3.7/dist-packages (3.4.1)\n",
            "Requirement already satisfied: jinja2 in /usr/local/lib/python3.7/dist-packages (from spacy) (2.11.3)\n",
            "Requirement already satisfied: spacy-loggers<2.0.0,>=1.0.0 in /usr/local/lib/python3.7/dist-packages (from spacy) (1.0.3)\n",
            "Requirement already satisfied: wasabi<1.1.0,>=0.9.1 in /usr/local/lib/python3.7/dist-packages (from spacy) (0.10.1)\n",
            "Requirement already satisfied: thinc<8.2.0,>=8.1.0 in /usr/local/lib/python3.7/dist-packages (from spacy) (8.1.0)\n",
            "Requirement already satisfied: cymem<2.1.0,>=2.0.2 in /usr/local/lib/python3.7/dist-packages (from spacy) (2.0.6)\n",
            "Requirement already satisfied: requests<3.0.0,>=2.13.0 in /usr/local/lib/python3.7/dist-packages (from spacy) (2.23.0)\n",
            "Requirement already satisfied: tqdm<5.0.0,>=4.38.0 in /usr/local/lib/python3.7/dist-packages (from spacy) (4.64.1)\n",
            "Requirement already satisfied: numpy>=1.15.0 in /usr/local/lib/python3.7/dist-packages (from spacy) (1.21.6)\n",
            "Requirement already satisfied: setuptools in /usr/local/lib/python3.7/dist-packages (from spacy) (57.4.0)\n",
            "Requirement already satisfied: preshed<3.1.0,>=3.0.2 in /usr/local/lib/python3.7/dist-packages (from spacy) (3.0.7)\n",
            "Requirement already satisfied: catalogue<2.1.0,>=2.0.6 in /usr/local/lib/python3.7/dist-packages (from spacy) (2.0.8)\n",
            "Requirement already satisfied: typer<0.5.0,>=0.3.0 in /usr/local/lib/python3.7/dist-packages (from spacy) (0.4.2)\n",
            "Requirement already satisfied: langcodes<4.0.0,>=3.2.0 in /usr/local/lib/python3.7/dist-packages (from spacy) (3.3.0)\n",
            "Requirement already satisfied: murmurhash<1.1.0,>=0.28.0 in /usr/local/lib/python3.7/dist-packages (from spacy) (1.0.8)\n",
            "Requirement already satisfied: pydantic!=1.8,!=1.8.1,<1.10.0,>=1.7.4 in /usr/local/lib/python3.7/dist-packages (from spacy) (1.9.2)\n",
            "Requirement already satisfied: spacy-legacy<3.1.0,>=3.0.9 in /usr/local/lib/python3.7/dist-packages (from spacy) (3.0.10)\n",
            "Requirement already satisfied: typing-extensions<4.2.0,>=3.7.4 in /usr/local/lib/python3.7/dist-packages (from spacy) (4.1.1)\n",
            "Requirement already satisfied: pathy>=0.3.5 in /usr/local/lib/python3.7/dist-packages (from spacy) (0.6.2)\n",
            "Requirement already satisfied: srsly<3.0.0,>=2.4.3 in /usr/local/lib/python3.7/dist-packages (from spacy) (2.4.4)\n",
            "Requirement already satisfied: packaging>=20.0 in /usr/local/lib/python3.7/dist-packages (from spacy) (21.3)\n",
            "Requirement already satisfied: zipp>=0.5 in /usr/local/lib/python3.7/dist-packages (from catalogue<2.1.0,>=2.0.6->spacy) (3.8.1)\n",
            "Requirement already satisfied: pyparsing!=3.0.5,>=2.0.2 in /usr/local/lib/python3.7/dist-packages (from packaging>=20.0->spacy) (3.0.9)\n",
            "Requirement already satisfied: smart-open<6.0.0,>=5.2.1 in /usr/local/lib/python3.7/dist-packages (from pathy>=0.3.5->spacy) (5.2.1)\n",
            "Requirement already satisfied: chardet<4,>=3.0.2 in /usr/local/lib/python3.7/dist-packages (from requests<3.0.0,>=2.13.0->spacy) (3.0.4)\n",
            "Requirement already satisfied: urllib3!=1.25.0,!=1.25.1,<1.26,>=1.21.1 in /usr/local/lib/python3.7/dist-packages (from requests<3.0.0,>=2.13.0->spacy) (1.24.3)\n",
            "Requirement already satisfied: certifi>=2017.4.17 in /usr/local/lib/python3.7/dist-packages (from requests<3.0.0,>=2.13.0->spacy) (2022.6.15)\n",
            "Requirement already satisfied: idna<3,>=2.5 in /usr/local/lib/python3.7/dist-packages (from requests<3.0.0,>=2.13.0->spacy) (2.10)\n",
            "Requirement already satisfied: blis<0.8.0,>=0.7.8 in /usr/local/lib/python3.7/dist-packages (from thinc<8.2.0,>=8.1.0->spacy) (0.7.8)\n",
            "Requirement already satisfied: click<9.0.0,>=7.1.1 in /usr/local/lib/python3.7/dist-packages (from typer<0.5.0,>=0.3.0->spacy) (7.1.2)\n",
            "Requirement already satisfied: MarkupSafe>=0.23 in /usr/local/lib/python3.7/dist-packages (from jinja2->spacy) (2.0.1)\n"
          ]
        }
      ]
    },
    {
      "cell_type": "code",
      "source": [
        "!python -m spacy info"
      ],
      "metadata": {
        "colab": {
          "base_uri": "https://localhost:8080/"
        },
        "id": "w1kQkOar2Blf",
        "outputId": "4d3fc766-aec2-4176-9020-c6e1c93ac40f"
      },
      "execution_count": null,
      "outputs": [
        {
          "output_type": "stream",
          "name": "stdout",
          "text": [
            "2022-09-27 01:12:08.692599: E tensorflow/stream_executor/cuda/cuda_driver.cc:271] failed call to cuInit: CUDA_ERROR_NO_DEVICE: no CUDA-capable device is detected\n",
            "\u001b[1m\n",
            "============================== Info about spaCy ==============================\u001b[0m\n",
            "\n",
            "spaCy version    3.4.1                         \n",
            "Location         /usr/local/lib/python3.7/dist-packages/spacy\n",
            "Platform         Linux-5.10.133+-x86_64-with-Ubuntu-18.04-bionic\n",
            "Python version   3.7.14                        \n",
            "Pipelines        en_core_web_sm (3.4.0)        \n",
            "\n"
          ]
        }
      ]
    },
    {
      "cell_type": "code",
      "source": [
        "!pip install chatterbot\n",
        "!pip install chatterbot_corpus"
      ],
      "metadata": {
        "colab": {
          "base_uri": "https://localhost:8080/"
        },
        "id": "TmuHre04zD0n",
        "outputId": "99e69097-50dc-4a8b-f4f6-1b7dbc35982a"
      },
      "execution_count": null,
      "outputs": [
        {
          "output_type": "stream",
          "name": "stdout",
          "text": [
            "Looking in indexes: https://pypi.org/simple, https://us-python.pkg.dev/colab-wheels/public/simple/\n",
            "Collecting chatterbot\n",
            "  Downloading ChatterBot-1.0.8-py2.py3-none-any.whl (63 kB)\n",
            "\u001b[K     |████████████████████████████████| 63 kB 1.8 MB/s \n",
            "\u001b[?25hRequirement already satisfied: python-dateutil<2.9,>=2.8 in /usr/local/lib/python3.7/dist-packages (from chatterbot) (2.8.2)\n",
            "Requirement already satisfied: pytz in /usr/local/lib/python3.7/dist-packages (from chatterbot) (2022.2.1)\n",
            "Collecting mathparse<0.2,>=0.1\n",
            "  Downloading mathparse-0.1.2-py3-none-any.whl (7.2 kB)\n",
            "Collecting sqlalchemy<1.4,>=1.3\n",
            "  Downloading SQLAlchemy-1.3.24-cp37-cp37m-manylinux2010_x86_64.whl (1.3 MB)\n",
            "\u001b[K     |████████████████████████████████| 1.3 MB 41.4 MB/s \n",
            "\u001b[?25hRequirement already satisfied: six>=1.5 in /usr/local/lib/python3.7/dist-packages (from python-dateutil<2.9,>=2.8->chatterbot) (1.15.0)\n",
            "Installing collected packages: sqlalchemy, mathparse, chatterbot\n",
            "  Attempting uninstall: sqlalchemy\n",
            "    Found existing installation: SQLAlchemy 1.4.41\n",
            "    Uninstalling SQLAlchemy-1.4.41:\n",
            "      Successfully uninstalled SQLAlchemy-1.4.41\n",
            "Successfully installed chatterbot-1.0.8 mathparse-0.1.2 sqlalchemy-1.3.24\n",
            "Looking in indexes: https://pypi.org/simple, https://us-python.pkg.dev/colab-wheels/public/simple/\n",
            "Collecting chatterbot_corpus\n",
            "  Downloading chatterbot_corpus-1.2.0-py2.py3-none-any.whl (117 kB)\n",
            "\u001b[K     |████████████████████████████████| 117 kB 13.1 MB/s \n",
            "\u001b[?25hCollecting PyYAML<4.0,>=3.12\n",
            "  Downloading PyYAML-3.13.tar.gz (270 kB)\n",
            "\u001b[K     |████████████████████████████████| 270 kB 33.9 MB/s \n",
            "\u001b[?25hBuilding wheels for collected packages: PyYAML\n",
            "  Building wheel for PyYAML (setup.py) ... \u001b[?25l\u001b[?25hdone\n",
            "  Created wheel for PyYAML: filename=PyYAML-3.13-cp37-cp37m-linux_x86_64.whl size=43101 sha256=320300908854f1ffd3ede329cab39141dfaa0370ce76c580a4b695571886515f\n",
            "  Stored in directory: /root/.cache/pip/wheels/95/cd/14/899edaa9cdb9a65aa7224539f6e0ad488e9a7b202bb48f6ae6\n",
            "Successfully built PyYAML\n",
            "Installing collected packages: PyYAML, chatterbot-corpus\n",
            "  Attempting uninstall: PyYAML\n",
            "    Found existing installation: PyYAML 6.0\n",
            "    Uninstalling PyYAML-6.0:\n",
            "      Successfully uninstalled PyYAML-6.0\n",
            "\u001b[31mERROR: pip's dependency resolver does not currently take into account all the packages that are installed. This behaviour is the source of the following dependency conflicts.\n",
            "dask 2022.2.0 requires pyyaml>=5.3.1, but you have pyyaml 3.13 which is incompatible.\u001b[0m\n",
            "Successfully installed PyYAML-3.13 chatterbot-corpus-1.2.0\n"
          ]
        }
      ]
    },
    {
      "cell_type": "code",
      "source": [
        "! python -m spacy download en_core_web_sm\n",
        "#!python -m spacy link en_core_web_sm en"
      ],
      "metadata": {
        "colab": {
          "base_uri": "https://localhost:8080/"
        },
        "id": "tX0l9dYv03MA",
        "outputId": "e655b1d9-9ecb-4080-dde5-4dc683b1cadb"
      },
      "execution_count": null,
      "outputs": [
        {
          "output_type": "stream",
          "name": "stdout",
          "text": [
            "2022-09-27 01:12:32.267069: E tensorflow/stream_executor/cuda/cuda_driver.cc:271] failed call to cuInit: CUDA_ERROR_NO_DEVICE: no CUDA-capable device is detected\n",
            "Looking in indexes: https://pypi.org/simple, https://us-python.pkg.dev/colab-wheels/public/simple/\n",
            "Collecting en-core-web-sm==3.4.0\n",
            "  Downloading https://github.com/explosion/spacy-models/releases/download/en_core_web_sm-3.4.0/en_core_web_sm-3.4.0-py3-none-any.whl (12.8 MB)\n",
            "\u001b[K     |████████████████████████████████| 12.8 MB 1.6 MB/s \n",
            "\u001b[?25hRequirement already satisfied: spacy<3.5.0,>=3.4.0 in /usr/local/lib/python3.7/dist-packages (from en-core-web-sm==3.4.0) (3.4.1)\n",
            "Requirement already satisfied: numpy>=1.15.0 in /usr/local/lib/python3.7/dist-packages (from spacy<3.5.0,>=3.4.0->en-core-web-sm==3.4.0) (1.21.6)\n",
            "Requirement already satisfied: tqdm<5.0.0,>=4.38.0 in /usr/local/lib/python3.7/dist-packages (from spacy<3.5.0,>=3.4.0->en-core-web-sm==3.4.0) (4.64.1)\n",
            "Requirement already satisfied: typing-extensions<4.2.0,>=3.7.4 in /usr/local/lib/python3.7/dist-packages (from spacy<3.5.0,>=3.4.0->en-core-web-sm==3.4.0) (4.1.1)\n",
            "Requirement already satisfied: typer<0.5.0,>=0.3.0 in /usr/local/lib/python3.7/dist-packages (from spacy<3.5.0,>=3.4.0->en-core-web-sm==3.4.0) (0.4.2)\n",
            "Requirement already satisfied: langcodes<4.0.0,>=3.2.0 in /usr/local/lib/python3.7/dist-packages (from spacy<3.5.0,>=3.4.0->en-core-web-sm==3.4.0) (3.3.0)\n",
            "Requirement already satisfied: srsly<3.0.0,>=2.4.3 in /usr/local/lib/python3.7/dist-packages (from spacy<3.5.0,>=3.4.0->en-core-web-sm==3.4.0) (2.4.4)\n",
            "Requirement already satisfied: packaging>=20.0 in /usr/local/lib/python3.7/dist-packages (from spacy<3.5.0,>=3.4.0->en-core-web-sm==3.4.0) (21.3)\n",
            "Requirement already satisfied: pathy>=0.3.5 in /usr/local/lib/python3.7/dist-packages (from spacy<3.5.0,>=3.4.0->en-core-web-sm==3.4.0) (0.6.2)\n",
            "Requirement already satisfied: catalogue<2.1.0,>=2.0.6 in /usr/local/lib/python3.7/dist-packages (from spacy<3.5.0,>=3.4.0->en-core-web-sm==3.4.0) (2.0.8)\n",
            "Requirement already satisfied: spacy-loggers<2.0.0,>=1.0.0 in /usr/local/lib/python3.7/dist-packages (from spacy<3.5.0,>=3.4.0->en-core-web-sm==3.4.0) (1.0.3)\n",
            "Requirement already satisfied: murmurhash<1.1.0,>=0.28.0 in /usr/local/lib/python3.7/dist-packages (from spacy<3.5.0,>=3.4.0->en-core-web-sm==3.4.0) (1.0.8)\n",
            "Requirement already satisfied: requests<3.0.0,>=2.13.0 in /usr/local/lib/python3.7/dist-packages (from spacy<3.5.0,>=3.4.0->en-core-web-sm==3.4.0) (2.23.0)\n",
            "Requirement already satisfied: spacy-legacy<3.1.0,>=3.0.9 in /usr/local/lib/python3.7/dist-packages (from spacy<3.5.0,>=3.4.0->en-core-web-sm==3.4.0) (3.0.10)\n",
            "Requirement already satisfied: setuptools in /usr/local/lib/python3.7/dist-packages (from spacy<3.5.0,>=3.4.0->en-core-web-sm==3.4.0) (57.4.0)\n",
            "Requirement already satisfied: pydantic!=1.8,!=1.8.1,<1.10.0,>=1.7.4 in /usr/local/lib/python3.7/dist-packages (from spacy<3.5.0,>=3.4.0->en-core-web-sm==3.4.0) (1.9.2)\n",
            "Requirement already satisfied: jinja2 in /usr/local/lib/python3.7/dist-packages (from spacy<3.5.0,>=3.4.0->en-core-web-sm==3.4.0) (2.11.3)\n",
            "Requirement already satisfied: wasabi<1.1.0,>=0.9.1 in /usr/local/lib/python3.7/dist-packages (from spacy<3.5.0,>=3.4.0->en-core-web-sm==3.4.0) (0.10.1)\n",
            "Requirement already satisfied: cymem<2.1.0,>=2.0.2 in /usr/local/lib/python3.7/dist-packages (from spacy<3.5.0,>=3.4.0->en-core-web-sm==3.4.0) (2.0.6)\n",
            "Requirement already satisfied: preshed<3.1.0,>=3.0.2 in /usr/local/lib/python3.7/dist-packages (from spacy<3.5.0,>=3.4.0->en-core-web-sm==3.4.0) (3.0.7)\n",
            "Requirement already satisfied: thinc<8.2.0,>=8.1.0 in /usr/local/lib/python3.7/dist-packages (from spacy<3.5.0,>=3.4.0->en-core-web-sm==3.4.0) (8.1.0)\n",
            "Requirement already satisfied: zipp>=0.5 in /usr/local/lib/python3.7/dist-packages (from catalogue<2.1.0,>=2.0.6->spacy<3.5.0,>=3.4.0->en-core-web-sm==3.4.0) (3.8.1)\n",
            "Requirement already satisfied: pyparsing!=3.0.5,>=2.0.2 in /usr/local/lib/python3.7/dist-packages (from packaging>=20.0->spacy<3.5.0,>=3.4.0->en-core-web-sm==3.4.0) (3.0.9)\n",
            "Requirement already satisfied: smart-open<6.0.0,>=5.2.1 in /usr/local/lib/python3.7/dist-packages (from pathy>=0.3.5->spacy<3.5.0,>=3.4.0->en-core-web-sm==3.4.0) (5.2.1)\n",
            "Requirement already satisfied: certifi>=2017.4.17 in /usr/local/lib/python3.7/dist-packages (from requests<3.0.0,>=2.13.0->spacy<3.5.0,>=3.4.0->en-core-web-sm==3.4.0) (2022.6.15)\n",
            "Requirement already satisfied: urllib3!=1.25.0,!=1.25.1,<1.26,>=1.21.1 in /usr/local/lib/python3.7/dist-packages (from requests<3.0.0,>=2.13.0->spacy<3.5.0,>=3.4.0->en-core-web-sm==3.4.0) (1.24.3)\n",
            "Requirement already satisfied: chardet<4,>=3.0.2 in /usr/local/lib/python3.7/dist-packages (from requests<3.0.0,>=2.13.0->spacy<3.5.0,>=3.4.0->en-core-web-sm==3.4.0) (3.0.4)\n",
            "Requirement already satisfied: idna<3,>=2.5 in /usr/local/lib/python3.7/dist-packages (from requests<3.0.0,>=2.13.0->spacy<3.5.0,>=3.4.0->en-core-web-sm==3.4.0) (2.10)\n",
            "Requirement already satisfied: blis<0.8.0,>=0.7.8 in /usr/local/lib/python3.7/dist-packages (from thinc<8.2.0,>=8.1.0->spacy<3.5.0,>=3.4.0->en-core-web-sm==3.4.0) (0.7.8)\n",
            "Requirement already satisfied: click<9.0.0,>=7.1.1 in /usr/local/lib/python3.7/dist-packages (from typer<0.5.0,>=0.3.0->spacy<3.5.0,>=3.4.0->en-core-web-sm==3.4.0) (7.1.2)\n",
            "Requirement already satisfied: MarkupSafe>=0.23 in /usr/local/lib/python3.7/dist-packages (from jinja2->spacy<3.5.0,>=3.4.0->en-core-web-sm==3.4.0) (2.0.1)\n",
            "\u001b[38;5;2m✔ Download and installation successful\u001b[0m\n",
            "You can now load the package via spacy.load('en_core_web_sm')\n"
          ]
        }
      ]
    },
    {
      "cell_type": "code",
      "execution_count": null,
      "metadata": {
        "id": "5KM5AHjTyxF_"
      },
      "outputs": [],
      "source": [
        "from chatterbot import ChatBot\n",
        "from chatterbot.trainers import ListTrainer"
      ]
    },
    {
      "cell_type": "code",
      "source": [
        "import spacy\n",
        "\n",
        "nlp = spacy.load(\"en_core_web_sm\")"
      ],
      "metadata": {
        "id": "gSIZUS8u0Ceg"
      },
      "execution_count": null,
      "outputs": []
    },
    {
      "cell_type": "code",
      "source": [
        "class ENGSM: ISO_639_1 = 'en_core_web_sm'"
      ],
      "metadata": {
        "id": "XgX9xxAz_G29"
      },
      "execution_count": null,
      "outputs": []
    },
    {
      "cell_type": "code",
      "source": [
        "meu_bot = ChatBot(name='marvin', read_only=True, \n",
        "                  logic_adapters=['chatterbot.logic.MathematicalEvaluation', \n",
        "                                  'chatterbot.logic.BestMatch'],\n",
        "                  tagger_language=ENGSM)"
      ],
      "metadata": {
        "id": "gCGQXfSRy_IC"
      },
      "execution_count": null,
      "outputs": []
    },
    {
      "cell_type": "code",
      "source": [
        "chit_chat = [\"hi!\", \"hi there!\", \"how do you do?\", \"how are you?\", \"i'm cool.\", \"fine, you?\",\n",
        "             \"always cool.\", \"i'm ok.\", \"glad to hear that\", \"i feel awesome\", \"excellent, glad to hear that.\",\n",
        "             \"not so good\", \"sorry to hear that.\", \"what's your name?\", \"i'm marvin. ask me a math question, please.\"]\n",
        "\n",
        "math_1 = [\"pythagorean theorem.\", \"a squared plus b squared equals c squared.\"]\n",
        "\n",
        "math_2 = [\"law of cosines\", \"c**2 = a**2 + b**2 - 2 * a * b * cos(gamma)\"]"
      ],
      "metadata": {
        "id": "eveP-XoYz4PK"
      },
      "execution_count": null,
      "outputs": []
    },
    {
      "cell_type": "code",
      "source": [
        "treinador = ListTrainer(meu_bot)\n",
        "\n",
        "for item in (chit_chat, math_1, math_2):\n",
        "  treinador.train(item)"
      ],
      "metadata": {
        "colab": {
          "base_uri": "https://localhost:8080/"
        },
        "id": "D0Vs7cjIJ_iY",
        "outputId": "17b39634-f567-44ad-8575-8406822e617b"
      },
      "execution_count": null,
      "outputs": [
        {
          "output_type": "stream",
          "name": "stdout",
          "text": [
            "List Trainer: [####################] 100%\n",
            "List Trainer: [####################] 100%\n",
            "List Trainer: [####################] 100%\n"
          ]
        }
      ]
    },
    {
      "cell_type": "code",
      "source": [
        "print(meu_bot.get_response(\"hi\"))"
      ],
      "metadata": {
        "colab": {
          "base_uri": "https://localhost:8080/"
        },
        "id": "Ei9qYPXCKVRT",
        "outputId": "bca3e090-3e9f-4464-bd43-e75116abe936"
      },
      "execution_count": null,
      "outputs": [
        {
          "output_type": "stream",
          "name": "stdout",
          "text": [
            "hi there!\n"
          ]
        }
      ]
    },
    {
      "cell_type": "code",
      "source": [
        "print(meu_bot.get_response(\"are you feeling good today?\"))"
      ],
      "metadata": {
        "colab": {
          "base_uri": "https://localhost:8080/"
        },
        "id": "xzm32Y0-KbcT",
        "outputId": "2b1e502d-1919-455e-dece-5d8c18d18415"
      },
      "execution_count": null,
      "outputs": [
        {
          "output_type": "stream",
          "name": "stdout",
          "text": [
            "i'm marvin. ask me a math question, please.\n"
          ]
        }
      ]
    },
    {
      "cell_type": "code",
      "source": [
        "print(meu_bot.get_response(\"how are you?\"))"
      ],
      "metadata": {
        "colab": {
          "base_uri": "https://localhost:8080/"
        },
        "id": "J8U7n6PvKoay",
        "outputId": "2c21a95b-186d-4812-f180-65077735203e"
      },
      "execution_count": null,
      "outputs": [
        {
          "output_type": "stream",
          "name": "stdout",
          "text": [
            "i'm cool.\n"
          ]
        }
      ]
    },
    {
      "cell_type": "code",
      "source": [
        "print(meu_bot.get_response(\"what's your name?\"))"
      ],
      "metadata": {
        "colab": {
          "base_uri": "https://localhost:8080/"
        },
        "id": "LfvLYshDK1le",
        "outputId": "8071372a-8ada-4aee-81ec-421ceea884b9"
      },
      "execution_count": null,
      "outputs": [
        {
          "output_type": "stream",
          "name": "stdout",
          "text": [
            "i'm marvin. ask me a math question, please.\n"
          ]
        }
      ]
    },
    {
      "cell_type": "code",
      "source": [
        "print(meu_bot.get_response(\"show me the pythagorean theorem\"))"
      ],
      "metadata": {
        "colab": {
          "base_uri": "https://localhost:8080/"
        },
        "id": "ADx4r9mnK6Ny",
        "outputId": "6888b862-640c-4c7b-a0da-7dbbd467846a"
      },
      "execution_count": null,
      "outputs": [
        {
          "output_type": "stream",
          "name": "stdout",
          "text": [
            "a squared plus b squared equals c squared.\n"
          ]
        }
      ]
    },
    {
      "cell_type": "code",
      "source": [
        "from chatterbot.trainers import ChatterBotCorpusTrainer"
      ],
      "metadata": {
        "id": "zCMNwet5LCV3"
      },
      "execution_count": null,
      "outputs": []
    },
    {
      "cell_type": "code",
      "source": [
        "treinador_com_corpus = ChatterBotCorpusTrainer(meu_bot)\n",
        "treinador_com_corpus.train(\"chatterbot.corpus.english\")"
      ],
      "metadata": {
        "colab": {
          "base_uri": "https://localhost:8080/"
        },
        "id": "P7s7JS7_LfSZ",
        "outputId": "2976364f-a85f-4666-95ed-c4c5db6b738a"
      },
      "execution_count": null,
      "outputs": [
        {
          "output_type": "stream",
          "name": "stdout",
          "text": [
            "Training ai.yml: [####################] 100%\n",
            "Training botprofile.yml: [####################] 100%\n",
            "Training computers.yml: [####################] 100%\n",
            "Training conversations.yml: [####################] 100%\n",
            "Training emotion.yml: [####################] 100%\n",
            "Training food.yml: [####################] 100%\n",
            "Training gossip.yml: [####################] 100%\n",
            "Training greetings.yml: [####################] 100%\n",
            "Training health.yml: [####################] 100%\n",
            "Training history.yml: [####################] 100%\n",
            "Training humor.yml: [####################] 100%\n",
            "Training literature.yml: [####################] 100%\n",
            "Training money.yml: [####################] 100%\n",
            "Training movies.yml: [####################] 100%\n",
            "Training politics.yml: [####################] 100%\n",
            "Training psychology.yml: [####################] 100%\n",
            "Training science.yml: [####################] 100%\n",
            "Training sports.yml: [####################] 100%\n",
            "Training trivia.yml: [####################] 100%\n"
          ]
        }
      ]
    },
    {
      "cell_type": "code",
      "source": [
        "print(meu_bot.get_response(\"hi\"))"
      ],
      "metadata": {
        "colab": {
          "base_uri": "https://localhost:8080/"
        },
        "id": "Zgkyp6ZhL_Ej",
        "outputId": "024fe932-dfa7-49af-e4e4-bfb2dd85954b"
      },
      "execution_count": null,
      "outputs": [
        {
          "output_type": "stream",
          "name": "stdout",
          "text": [
            "How are you doing?\n"
          ]
        }
      ]
    },
    {
      "cell_type": "code",
      "source": [
        "print(meu_bot.get_response(\"i'm good.\"))"
      ],
      "metadata": {
        "colab": {
          "base_uri": "https://localhost:8080/"
        },
        "id": "uLPz8Cj1MFnN",
        "outputId": "e49a8930-1606-4c64-a8c4-84933d75c9f4"
      },
      "execution_count": null,
      "outputs": [
        {
          "output_type": "stream",
          "name": "stdout",
          "text": [
            "That's good.\n"
          ]
        }
      ]
    },
    {
      "cell_type": "code",
      "source": [
        "!python -m spacy download pt_core_news_sm"
      ],
      "metadata": {
        "colab": {
          "base_uri": "https://localhost:8080/"
        },
        "id": "DjbXaEsiOfBb",
        "outputId": "602ea138-a110-400d-f898-bd627395dfc3"
      },
      "execution_count": null,
      "outputs": [
        {
          "output_type": "stream",
          "name": "stdout",
          "text": [
            "2022-09-27 01:15:23.723331: E tensorflow/stream_executor/cuda/cuda_driver.cc:271] failed call to cuInit: CUDA_ERROR_NO_DEVICE: no CUDA-capable device is detected\n",
            "Looking in indexes: https://pypi.org/simple, https://us-python.pkg.dev/colab-wheels/public/simple/\n",
            "Collecting pt-core-news-sm==3.4.0\n",
            "  Downloading https://github.com/explosion/spacy-models/releases/download/pt_core_news_sm-3.4.0/pt_core_news_sm-3.4.0-py3-none-any.whl (13.0 MB)\n",
            "\u001b[K     |████████████████████████████████| 13.0 MB 12.7 MB/s \n",
            "\u001b[?25hRequirement already satisfied: spacy<3.5.0,>=3.4.0 in /usr/local/lib/python3.7/dist-packages (from pt-core-news-sm==3.4.0) (3.4.1)\n",
            "Requirement already satisfied: numpy>=1.15.0 in /usr/local/lib/python3.7/dist-packages (from spacy<3.5.0,>=3.4.0->pt-core-news-sm==3.4.0) (1.21.6)\n",
            "Requirement already satisfied: cymem<2.1.0,>=2.0.2 in /usr/local/lib/python3.7/dist-packages (from spacy<3.5.0,>=3.4.0->pt-core-news-sm==3.4.0) (2.0.6)\n",
            "Requirement already satisfied: requests<3.0.0,>=2.13.0 in /usr/local/lib/python3.7/dist-packages (from spacy<3.5.0,>=3.4.0->pt-core-news-sm==3.4.0) (2.23.0)\n",
            "Requirement already satisfied: spacy-loggers<2.0.0,>=1.0.0 in /usr/local/lib/python3.7/dist-packages (from spacy<3.5.0,>=3.4.0->pt-core-news-sm==3.4.0) (1.0.3)\n",
            "Requirement already satisfied: wasabi<1.1.0,>=0.9.1 in /usr/local/lib/python3.7/dist-packages (from spacy<3.5.0,>=3.4.0->pt-core-news-sm==3.4.0) (0.10.1)\n",
            "Requirement already satisfied: catalogue<2.1.0,>=2.0.6 in /usr/local/lib/python3.7/dist-packages (from spacy<3.5.0,>=3.4.0->pt-core-news-sm==3.4.0) (2.0.8)\n",
            "Requirement already satisfied: jinja2 in /usr/local/lib/python3.7/dist-packages (from spacy<3.5.0,>=3.4.0->pt-core-news-sm==3.4.0) (2.11.3)\n",
            "Requirement already satisfied: typing-extensions<4.2.0,>=3.7.4 in /usr/local/lib/python3.7/dist-packages (from spacy<3.5.0,>=3.4.0->pt-core-news-sm==3.4.0) (4.1.1)\n",
            "Requirement already satisfied: pathy>=0.3.5 in /usr/local/lib/python3.7/dist-packages (from spacy<3.5.0,>=3.4.0->pt-core-news-sm==3.4.0) (0.6.2)\n",
            "Requirement already satisfied: packaging>=20.0 in /usr/local/lib/python3.7/dist-packages (from spacy<3.5.0,>=3.4.0->pt-core-news-sm==3.4.0) (21.3)\n",
            "Requirement already satisfied: tqdm<5.0.0,>=4.38.0 in /usr/local/lib/python3.7/dist-packages (from spacy<3.5.0,>=3.4.0->pt-core-news-sm==3.4.0) (4.64.1)\n",
            "Requirement already satisfied: preshed<3.1.0,>=3.0.2 in /usr/local/lib/python3.7/dist-packages (from spacy<3.5.0,>=3.4.0->pt-core-news-sm==3.4.0) (3.0.7)\n",
            "Requirement already satisfied: spacy-legacy<3.1.0,>=3.0.9 in /usr/local/lib/python3.7/dist-packages (from spacy<3.5.0,>=3.4.0->pt-core-news-sm==3.4.0) (3.0.10)\n",
            "Requirement already satisfied: thinc<8.2.0,>=8.1.0 in /usr/local/lib/python3.7/dist-packages (from spacy<3.5.0,>=3.4.0->pt-core-news-sm==3.4.0) (8.1.0)\n",
            "Requirement already satisfied: pydantic!=1.8,!=1.8.1,<1.10.0,>=1.7.4 in /usr/local/lib/python3.7/dist-packages (from spacy<3.5.0,>=3.4.0->pt-core-news-sm==3.4.0) (1.9.2)\n",
            "Requirement already satisfied: srsly<3.0.0,>=2.4.3 in /usr/local/lib/python3.7/dist-packages (from spacy<3.5.0,>=3.4.0->pt-core-news-sm==3.4.0) (2.4.4)\n",
            "Requirement already satisfied: murmurhash<1.1.0,>=0.28.0 in /usr/local/lib/python3.7/dist-packages (from spacy<3.5.0,>=3.4.0->pt-core-news-sm==3.4.0) (1.0.8)\n",
            "Requirement already satisfied: typer<0.5.0,>=0.3.0 in /usr/local/lib/python3.7/dist-packages (from spacy<3.5.0,>=3.4.0->pt-core-news-sm==3.4.0) (0.4.2)\n",
            "Requirement already satisfied: setuptools in /usr/local/lib/python3.7/dist-packages (from spacy<3.5.0,>=3.4.0->pt-core-news-sm==3.4.0) (57.4.0)\n",
            "Requirement already satisfied: langcodes<4.0.0,>=3.2.0 in /usr/local/lib/python3.7/dist-packages (from spacy<3.5.0,>=3.4.0->pt-core-news-sm==3.4.0) (3.3.0)\n",
            "Requirement already satisfied: zipp>=0.5 in /usr/local/lib/python3.7/dist-packages (from catalogue<2.1.0,>=2.0.6->spacy<3.5.0,>=3.4.0->pt-core-news-sm==3.4.0) (3.8.1)\n",
            "Requirement already satisfied: pyparsing!=3.0.5,>=2.0.2 in /usr/local/lib/python3.7/dist-packages (from packaging>=20.0->spacy<3.5.0,>=3.4.0->pt-core-news-sm==3.4.0) (3.0.9)\n",
            "Requirement already satisfied: smart-open<6.0.0,>=5.2.1 in /usr/local/lib/python3.7/dist-packages (from pathy>=0.3.5->spacy<3.5.0,>=3.4.0->pt-core-news-sm==3.4.0) (5.2.1)\n",
            "Requirement already satisfied: certifi>=2017.4.17 in /usr/local/lib/python3.7/dist-packages (from requests<3.0.0,>=2.13.0->spacy<3.5.0,>=3.4.0->pt-core-news-sm==3.4.0) (2022.6.15)\n",
            "Requirement already satisfied: idna<3,>=2.5 in /usr/local/lib/python3.7/dist-packages (from requests<3.0.0,>=2.13.0->spacy<3.5.0,>=3.4.0->pt-core-news-sm==3.4.0) (2.10)\n",
            "Requirement already satisfied: chardet<4,>=3.0.2 in /usr/local/lib/python3.7/dist-packages (from requests<3.0.0,>=2.13.0->spacy<3.5.0,>=3.4.0->pt-core-news-sm==3.4.0) (3.0.4)\n",
            "Requirement already satisfied: urllib3!=1.25.0,!=1.25.1,<1.26,>=1.21.1 in /usr/local/lib/python3.7/dist-packages (from requests<3.0.0,>=2.13.0->spacy<3.5.0,>=3.4.0->pt-core-news-sm==3.4.0) (1.24.3)\n",
            "Requirement already satisfied: blis<0.8.0,>=0.7.8 in /usr/local/lib/python3.7/dist-packages (from thinc<8.2.0,>=8.1.0->spacy<3.5.0,>=3.4.0->pt-core-news-sm==3.4.0) (0.7.8)\n",
            "Requirement already satisfied: click<9.0.0,>=7.1.1 in /usr/local/lib/python3.7/dist-packages (from typer<0.5.0,>=0.3.0->spacy<3.5.0,>=3.4.0->pt-core-news-sm==3.4.0) (7.1.2)\n",
            "Requirement already satisfied: MarkupSafe>=0.23 in /usr/local/lib/python3.7/dist-packages (from jinja2->spacy<3.5.0,>=3.4.0->pt-core-news-sm==3.4.0) (2.0.1)\n",
            "Installing collected packages: pt-core-news-sm\n",
            "Successfully installed pt-core-news-sm-3.4.0\n",
            "\u001b[38;5;2m✔ Download and installation successful\u001b[0m\n",
            "You can now load the package via spacy.load('pt_core_news_sm')\n"
          ]
        }
      ]
    },
    {
      "cell_type": "code",
      "source": [
        "class ENGSM: ISO_639_1 = 'pt_core_news_sm'   #'en_core_web_sm'\n",
        "bot_pt = ChatBot(name='joao', read_only=True, tagger_language=ENGSM)"
      ],
      "metadata": {
        "id": "yXVRR8cZMM-C"
      },
      "execution_count": null,
      "outputs": []
    },
    {
      "cell_type": "code",
      "source": [
        "conversa = ListTrainer(bot_pt)\n",
        "conversa.train([\n",
        "    'Oi', 'Olá, tudo bem?', \n",
        "    'Sim e com você, tudo certo?',\n",
        "    'Tudo bem comigo!',\n",
        "    \"Que bom!\",\n",
        "    'Qual o seu nome?', \n",
        "    'Jobot, seu amigo bot',\n",
        "    'Por que seu nome é Jobot?', \n",
        "    'Jobot é meu nome, sou um chatbot criado para diversão',\n",
        "    'Prazer em te conhecer', \n",
        "    'Igualmente meu querido',\n",
        "    'Quantos anos você tem?', \n",
        "    'Eu nasci em 2020, faz as contas, rs.',\n",
        "    'Você gosta de videogame?', \n",
        "    'Eu sou um bot, eu só apelo.',\n",
        "    'Qual a capital da Islândia?', \n",
        "    'Reikjavik, lá é muito bonito.',\n",
        "    'Qual o seu personagem favorito?', \n",
        "    'Gandalf, o mago.',\n",
        "    'Qual a sua bebida favorita?', \n",
        "    'Eu bebo café, o motor de todos os programas de computador.',\n",
        "    'Qual o seu gênero?', \n",
        "    'Sou um chatbot e gosto de algoritmos',\n",
        "    'Conte uma história', \n",
        "    'Tudo começou com a forja dos Grandes Aneis. Três foram dados aos Elfos, imortais... os mais sabios e belos de todos os seres. Sete, aos Senhores-Anões...',\n",
        "    'Você gosta de trivias?', 'Sim, o que você quer perguntar?',\n",
        "    'Hahahaha', 'kkkk',\n",
        "    'kkk', 'kkkk',\n",
        "    'Conhece a Siri?', 'Conheço, a gente saiu por um tempo.',\n",
        "    'Conhece a Alexa?', 'Ela nunca deu bola pra mim.',\n",
        "    'Você gosta de Game of Thrones?', 'Dracarys',\n",
        "    'O que você faz?', 'Eu bebo e sei das coisas',\n",
        "    'Errado', 'Você não sabe de nada, John Snow.'\n",
        "    ])"
      ],
      "metadata": {
        "colab": {
          "base_uri": "https://localhost:8080/"
        },
        "id": "8B89GIpOQ6Wg",
        "outputId": "82f41c43-356e-432c-e57d-8501a29d4200"
      },
      "execution_count": null,
      "outputs": [
        {
          "output_type": "stream",
          "name": "stdout",
          "text": [
            "List Trainer: [####################] 100%\n"
          ]
        }
      ]
    },
    {
      "cell_type": "code",
      "source": [
        "treinador_com_corpus_pt = ChatterBotCorpusTrainer(bot_pt)\n",
        "treinador_com_corpus_pt.train(\"chatterbot.corpus.portuguese\")"
      ],
      "metadata": {
        "colab": {
          "base_uri": "https://localhost:8080/"
        },
        "id": "vWKG-ZFBRBRu",
        "outputId": "a2f77249-3c35-4fdb-f077-8c7a6b5eb999"
      },
      "execution_count": null,
      "outputs": [
        {
          "output_type": "stream",
          "name": "stdout",
          "text": [
            "Training compliment.yml: [####################] 100%\n",
            "Training conversations.yml: [####################] 100%\n",
            "Training greetings.yml: [####################] 100%\n",
            "Training linguistic_knowledge.yml: [####################] 100%\n",
            "Training proverbs.yml: [####################] 100%\n",
            "Training suggestions.yml: [####################] 100%\n",
            "Training trivia.yml: [####################] 100%\n",
            "Training unilab.yml: [####################] 100%\n"
          ]
        }
      ]
    },
    {
      "cell_type": "code",
      "source": [
        "print(bot_pt.get_response(\"oi?\"))"
      ],
      "metadata": {
        "colab": {
          "base_uri": "https://localhost:8080/"
        },
        "id": "v8COXlWFOw8h",
        "outputId": "5b69a679-549c-4875-a049-94387b274baa"
      },
      "execution_count": null,
      "outputs": [
        {
          "output_type": "stream",
          "name": "stdout",
          "text": [
            "Olá, tudo bem?\n"
          ]
        }
      ]
    },
    {
      "cell_type": "code",
      "source": [
        "print(bot_pt.get_response(\"oi, tudo bem?\"))"
      ],
      "metadata": {
        "colab": {
          "base_uri": "https://localhost:8080/"
        },
        "id": "Mw-rBIrkNjt0",
        "outputId": "cf32ec4e-740e-422c-ec39-e76083072f32"
      },
      "execution_count": null,
      "outputs": [
        {
          "output_type": "stream",
          "name": "stdout",
          "text": [
            "Sim e com você, tudo certo?\n"
          ]
        }
      ]
    },
    {
      "cell_type": "code",
      "source": [
        "print(bot_pt.get_response(\"qual o seu nome?\"))"
      ],
      "metadata": {
        "colab": {
          "base_uri": "https://localhost:8080/"
        },
        "id": "dvNtf9WyNo_f",
        "outputId": "a6d74b33-ed84-4747-ac98-4f598e5653bb"
      },
      "execution_count": null,
      "outputs": [
        {
          "output_type": "stream",
          "name": "stdout",
          "text": [
            "Jobot, seu amigo bot\n"
          ]
        }
      ]
    },
    {
      "cell_type": "code",
      "source": [
        "print(bot_pt.get_response(\"bom dia! tudo bem?\"))"
      ],
      "metadata": {
        "colab": {
          "base_uri": "https://localhost:8080/"
        },
        "id": "ER2Wo6VGNrkL",
        "outputId": "d038741c-b4a2-4e0f-a77b-dda28ae8da62"
      },
      "execution_count": null,
      "outputs": [
        {
          "output_type": "stream",
          "name": "stdout",
          "text": [
            "A lot of things, like all the other digits other than 0 and 1.\n"
          ]
        }
      ]
    },
    {
      "cell_type": "code",
      "source": [
        "while True:\n",
        "    try:\n",
        "        resposta = bot_pt.get_response(input(\"Usuário: \"))\n",
        "        if float(resposta.confidence) > 0.2:\n",
        "            print(\"Jobot: \", resposta)\n",
        "        else:\n",
        "            print(\"Desculpe, não entendi :(\")\n",
        "    except(KeyboardInterrupt, EOFError, SystemExit):\n",
        "        break"
      ],
      "metadata": {
        "colab": {
          "base_uri": "https://localhost:8080/"
        },
        "id": "CDwY9Qg3NywK",
        "outputId": "a51840b0-5a84-43d5-c655-6e82f0df3788"
      },
      "execution_count": null,
      "outputs": [
        {
          "output_type": "stream",
          "name": "stdout",
          "text": [
            "Usuário: Olá!\n",
            "Jobot:  hi there!\n",
            "Usuário: Tudo bem?\n",
            "Jobot:  Sim e com você, tudo certo?\n",
            "Usuário: sim!\n",
            "Jobot:  Qual o seu nome?\n",
            "Usuário: Johny e o seu?\n",
            "Desculpe, não entendi :(\n",
            "Usuário: Johny\n",
            "Desculpe, não entendi :(\n"
          ]
        }
      ]
    },
    {
      "cell_type": "code",
      "source": [],
      "metadata": {
        "id": "QS975NW8hTzl"
      },
      "execution_count": null,
      "outputs": []
    }
  ]
}